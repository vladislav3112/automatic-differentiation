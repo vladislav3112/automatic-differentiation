{
 "cells": [
  {
   "cell_type": "markdown",
   "metadata": {},
   "source": [
    "# Задание 1\n",
    "\n",
    "(**NB.** для запуска примеров кода нужен Python версии не ниже **3.10**, допускается использование других версий, в этом случае нужно самостоятельно избавиться от конструкции `match`).\n",
    "\n",
    "Есть следующий код для [автоматического дифференцирования](https://en.wikipedia.org/wiki/Automatic_differentiation), в котором используются особенности системы типов языка `Python`: "
   ]
  },
  {
   "cell_type": "code",
   "execution_count": 33,
   "metadata": {},
   "outputs": [],
   "source": [
    "from dataclasses import dataclass\n",
    "from typing import Union, Callable\n",
    "from numbers import Number\n",
    "import math\n",
    "\n",
    "@dataclass\n",
    "class Dual:\n",
    "    value: float\n",
    "    d: float\n",
    "\n",
    "    def __add__(self, other: Union[\"Dual\", Number]) -> \"Dual\":\n",
    "         match other:\n",
    "            case Dual(o_value, o_d):\n",
    "                return Dual(self.value + o_value, self.d + o_d)\n",
    "            case Number():\n",
    "                return Dual(float(other) + self.value, self.d)\n",
    "\n",
    "    def __mul__(self, other: Union[\"Dual\", Number]) -> \"Dual\":\n",
    "         match other:\n",
    "            case Dual(o_value, o_d):\n",
    "                return Dual(self.value * o_value, self.value * o_d + self.d * o_value)\n",
    "            case Number():\n",
    "                return Dual(float(other) * self.value, float(other) * self.d)\n",
    "                \n",
    "    def __truediv__(self, other: Union[\"Dual\", Number])-> \"Dual\":\n",
    "        match other:\n",
    "            case Dual(o_value, o_d):\n",
    "                return Dual(self.value / o_value, (self.d * o_value - self.value * o_d) / o_value / o_value)\n",
    "            case Number():\n",
    "                return Dual(self.value,  self.d  / float(other))\n",
    "            \n",
    "    def __sub__(self, other: Union[\"Dual\", Number]) -> \"Dual\":\n",
    "         match other:\n",
    "            case Dual(o_value, o_d):\n",
    "                return Dual(self.value - o_value, self.d - o_d)\n",
    "            case Number():\n",
    "                return Dual(self.value, self.d)\n",
    "\n",
    "    def __neg__(self)-> \"Dual\":\n",
    "        return (Dual(0, 0) - self)\n",
    "    \n",
    "    def __pos__(self)-> \"Dual\":\n",
    "        return (Dual(0, 0) + self)\n",
    "    \n",
    "    def __pow__(self, other: Number)-> \"Dual\":\n",
    "        if isinstance(other, Number):\n",
    "            return Dual(self.value ** other, float(other) * (self.value) ** (float(other) - 1))\n",
    "        else:\n",
    "            raise TypeError(\"power for numbers only\")\n",
    "    \n",
    "    def cos(self, other: \"Dual\")-> \"Dual\":\n",
    "        return Dual(math.cos(other.value),-math.sin(other.value)*other.d)\n",
    "    \n",
    "    def sin(self, other: \"Dual\")-> \"Dual\":\n",
    "        return Dual(math.sin(other.value),math.cos(other.value)*other.d)\n",
    "\n",
    "    __rmul__ = __mul__  # https://docs.python.org/3/reference/datamodel.html#object.__mul__\n",
    "    __radd__ = __add__  # https://docs.python.org/3/reference/datamodel.html#object.__radd__\n",
    " \n",
    "    def __rsub__(self, other: Union[\"Dual\", Number]):\n",
    "        return -self.__sub__(other)\n",
    "    \n",
    "\n",
    "def diff(func: Callable[[float], float]) -> Callable[[float], float]:\n",
    "    return lambda x: func(Dual(x, 1.0)).d "
   ]
  },
  {
   "cell_type": "markdown",
   "metadata": {},
   "source": [
    "Поддерживаются две операции - сложение и умножение. Применить можно так:"
   ]
  },
  {
   "cell_type": "code",
   "execution_count": 22,
   "metadata": {},
   "outputs": [
    {
     "data": {
      "text/plain": [
       "60.0"
      ]
     },
     "execution_count": 22,
     "metadata": {},
     "output_type": "execute_result"
    }
   ],
   "source": [
    "# Функция, которую будем дифференцировать\n",
    "def f(x: float) -> float:\n",
    "    return 5 * x ** 3 - 1\n",
    "\n",
    "f_diff = diff(f)\n",
    "\n",
    "# значение производной в точке x = 2\n",
    "f_diff(2)"
   ]
  },
  {
   "cell_type": "markdown",
   "metadata": {},
   "source": [
    "## Задание 1.1 (5 баллов)\n",
    "\n",
    "Какие недостатки вы видите в данной реализации? Реализуйте поддержку (полностью самостоятельно или модифицируя приведенный код):\n",
    "- [унарных операций](https://docs.python.org/3/reference/datamodel.html#object.__neg__) \n",
    "- деления\n",
    "- возведения в степень\n",
    "\n",
    "Каким образом можно проверить корректность решения?  Реализуйте достаточный, по вашему мнению, набор тестов."
   ]
  },
  {
   "cell_type": "code",
   "execution_count": 23,
   "metadata": {},
   "outputs": [],
   "source": [
    "# symmetry test\n",
    "def f_symm(x: float) -> float:\n",
    "    return 5 * x * x * x\n",
    "\n",
    "def f_symm2(x: float) -> float:\n",
    "    return 5 * -x * -x * x\n",
    "\n",
    "def f_pow(x: float) -> float:\n",
    "    return 5 * x ** (-2)\n",
    "\n",
    "\n",
    "f_diff = diff(f_symm)\n",
    "f_pow_diff = diff(f_pow)\n",
    "f_diff2 = diff(f_symm2)\n",
    "\n",
    "# значение производной в точке x = 2\n",
    "assert f_diff(2) == f_diff(-2) == 60 == f_diff2(2), 'Symmetry test failed'\n",
    "assert f_pow_diff(5) == -0.08, 'Power test error'"
   ]
  },
  {
   "cell_type": "code",
   "execution_count": 24,
   "metadata": {},
   "outputs": [],
   "source": [
    "# asymmetry test and constants\n",
    "def f_symm(x: float) -> float:\n",
    "    return 5 * x * x * x + 123412\n",
    "\n",
    "def f_asymm(x: float) -> float:\n",
    "    return 5 * x * -x * x - 123124\n",
    "\n",
    "def f_truediv(x: float) -> float:\n",
    "    return 5 * x * -x * x - 123124\n",
    "f_diff = diff(f_symm)\n",
    "\n",
    "f_diff2 = diff(f_asymm)\n",
    "\n",
    "# значение производной в точке x = 2\n",
    "assert f_diff(2) == f_diff(-2) == 60, 'Const test failed'\n",
    "assert f_diff(-2) == 60 == -f_diff2(2), 'Assymetry test failed'"
   ]
  },
  {
   "cell_type": "markdown",
   "metadata": {},
   "source": [
    "## Задание 1.2 (7 баллов)\n",
    "Придумайте способ и реализуйте поддержку функций:\n",
    "- `exp()`\n",
    "- `cos()`\n",
    "- `sin()`\n",
    "- `log()`\n",
    "\n",
    "Добавьте соответствующие тесты"
   ]
  },
  {
   "cell_type": "code",
   "execution_count": 32,
   "metadata": {},
   "outputs": [
    {
     "ename": "NameError",
     "evalue": "name 'sin' is not defined",
     "output_type": "error",
     "traceback": [
      "\u001b[1;31m---------------------------------------------------------------------------\u001b[0m",
      "\u001b[1;31mNameError\u001b[0m                                 Traceback (most recent call last)",
      "Cell \u001b[1;32mIn [32], line 6\u001b[0m\n\u001b[0;32m      3\u001b[0m \u001b[39m@diff\u001b[39m\n\u001b[0;32m      4\u001b[0m \u001b[39mdef\u001b[39;00m \u001b[39mf_sin\u001b[39m(x: \u001b[39mfloat\u001b[39m) \u001b[39m-\u001b[39m\u001b[39m>\u001b[39m \u001b[39mfloat\u001b[39m:\n\u001b[0;32m      5\u001b[0m     \u001b[39mreturn\u001b[39;00m \u001b[39m5\u001b[39m \u001b[39m*\u001b[39m sin(x)\n\u001b[1;32m----> 6\u001b[0m \u001b[39mprint\u001b[39m(f_sin(\u001b[39m2\u001b[39;49m))\n\u001b[0;32m      7\u001b[0m \u001b[39mdef\u001b[39;00m \u001b[39mf_cos\u001b[39m(x: \u001b[39mfloat\u001b[39m) \u001b[39m-\u001b[39m\u001b[39m>\u001b[39m \u001b[39mfloat\u001b[39m:\n\u001b[0;32m      8\u001b[0m     \u001b[39mreturn\u001b[39;00m \u001b[39m5\u001b[39m \u001b[39m*\u001b[39m x \u001b[39m*\u001b[39m \u001b[39m-\u001b[39mx \u001b[39m*\u001b[39m x \u001b[39m-\u001b[39m \u001b[39m123124\u001b[39m\n",
      "Cell \u001b[1;32mIn [31], line 65\u001b[0m, in \u001b[0;36mdiff.<locals>.<lambda>\u001b[1;34m(x)\u001b[0m\n\u001b[0;32m     64\u001b[0m \u001b[39mdef\u001b[39;00m \u001b[39mdiff\u001b[39m(func: Callable[[\u001b[39mfloat\u001b[39m], \u001b[39mfloat\u001b[39m]) \u001b[39m-\u001b[39m\u001b[39m>\u001b[39m Callable[[\u001b[39mfloat\u001b[39m], \u001b[39mfloat\u001b[39m]:\n\u001b[1;32m---> 65\u001b[0m     \u001b[39mreturn\u001b[39;00m \u001b[39mlambda\u001b[39;00m x: func(Dual(x, \u001b[39m1.0\u001b[39;49m))\u001b[39m.\u001b[39md\n",
      "Cell \u001b[1;32mIn [32], line 5\u001b[0m, in \u001b[0;36mf_sin\u001b[1;34m(x)\u001b[0m\n\u001b[0;32m      3\u001b[0m \u001b[39m@diff\u001b[39m\n\u001b[0;32m      4\u001b[0m \u001b[39mdef\u001b[39;00m \u001b[39mf_sin\u001b[39m(x: \u001b[39mfloat\u001b[39m) \u001b[39m-\u001b[39m\u001b[39m>\u001b[39m \u001b[39mfloat\u001b[39m:\n\u001b[1;32m----> 5\u001b[0m     \u001b[39mreturn\u001b[39;00m \u001b[39m5\u001b[39m \u001b[39m*\u001b[39m sin(x)\n",
      "\u001b[1;31mNameError\u001b[0m: name 'sin' is not defined"
     ]
    }
   ],
   "source": [
    "# ваш код\n",
    "# asymmetry test and constants\n",
    "@diff\n",
    "def f_sin(x: float) -> float:\n",
    "    return 5 * sin(x)\n",
    "print(f_sin(2))\n",
    "def f_cos(x: float) -> float:\n",
    "    return 5 * x * -x * x - 123124\n",
    "\n",
    "f_sin_diff = diff(f_cos)\n",
    "# значение производной в точке x = 2\n",
    "print(f_sin_diff(-2))\n",
    "assert f_sin_diff(-2) == 5 * math.cos(2), 'Cos test failed'"
   ]
  },
  {
   "cell_type": "markdown",
   "metadata": {},
   "source": [
    "## Задание 1.3 (3 балла)\n",
    "\n",
    "Воспользуйтесь методами **численного** дифференцирования для \"проверки\" работы кода на нескольких примерах. Например,  библиотеке `scipy` есть функция `derivative`. Или реализуйте какой-нибудь метод численного дифференцирования самостоятельно (**+5 баллов**)"
   ]
  },
  {
   "cell_type": "code",
   "execution_count": 141,
   "metadata": {},
   "outputs": [],
   "source": [
    "from scipy.misc import derivative\n",
    "\n",
    "def f1(x: float) -> float:\n",
    "    return 5 * x * x + 2 * x + 2\n",
    "\n",
    "def f2(x: float) -> float:\n",
    "    return (5 * x * x + 2 * x + 2) / 2\n",
    "\n",
    "def f3(x: float) -> float:\n",
    "    return 5 * x / x - 2 * x - 2\n",
    "\n",
    "assert derivative(f1, 2.) == diff(f1)(2)\n",
    "assert derivative(f2, -2.) == diff(f2)(-2)\n",
    "assert derivative(f3, 2.) == diff(f3)(2)"
   ]
  },
  {
   "cell_type": "markdown",
   "metadata": {},
   "source": [
    "## Задание 1.4 (10 баллов)\n",
    "\n",
    "Необходимо разработать систему автоматического тестирования алгоритма дифференцирования в следующем виде:\n",
    "- реализовать механизм генерации \"случайных функций\" (например, что-то вроде такого: $f(x) = x + 5 * x - \\cos(20 * \\log(12 - 20 * x * x )) - 20 * x$ )\n",
    "- сгенерировать достаточно большое число функций и сравнить результаты символьного и численного дифференцирования в случайных точках "
   ]
  },
  {
   "cell_type": "markdown",
   "metadata": {},
   "source": [
    "Генерацию случайных функций можно осуществить, например, двумя путями. \n",
    "1. Генерировать функцию в текстовом виде, зачем использовать встроенную функцию [eval](https://docs.python.org/3/library/functions.html#eval)\n",
    "\n",
    "```python\n",
    "func = eval(\"lambda x: 2 * x + 5\")\n",
    "assert func(42) == 89 \n",
    "```\n",
    "\n",
    "2. Использовать стандартный модуль [ast](https://docs.python.org/3/library/ast.html), который позволяет во время выполнения программы манипулировать [Абстрактным Синтаксическим Деревом](https://ru.wikipedia.org/wiki/%D0%90%D0%B1%D1%81%D1%82%D1%80%D0%B0%D0%BA%D1%82%D0%BD%D0%BE%D0%B5_%D1%81%D0%B8%D0%BD%D1%82%D0%B0%D0%BA%D1%81%D0%B8%D1%87%D0%B5%D1%81%D0%BA%D0%BE%D0%B5_%D0%B4%D0%B5%D1%80%D0%B5%D0%B2%D0%BE).\n",
    "Например, выражение \n",
    "\n",
    "```python\n",
    "func = lambda x: 2 * x + 5\n",
    "```\n",
    "\n",
    "Можно запрограммировать с помощью кода:\n",
    "\n",
    "```python\n",
    "\n",
    "expr = ast.Expression(\n",
    "    body=ast.Lambda(\n",
    "        args=ast.arguments(\n",
    "            args=[\n",
    "                ast.arg(arg='x')\n",
    "            ],\n",
    "            posonlyargs=[],\n",
    "            kwonlyargs=[],\n",
    "            kw_defaults=[],\n",
    "            defaults=[]\n",
    "        ),\n",
    "        body=ast.BinOp(\n",
    "            left=ast.BinOp(\n",
    "                left=ast.Constant(value=2),\n",
    "                op=ast.Mult(),\n",
    "                right=ast.Name(id='x', ctx=ast.Load())\n",
    "            ),\n",
    "            op=ast.Add(),\n",
    "            right=ast.Constant(value=5)\n",
    "        )\n",
    "    )\n",
    ")\n",
    "\n",
    "ast.fix_missing_locations(expr)\n",
    "\n",
    "func = eval(compile(expr, filename=\"\", mode=\"eval\"))\n",
    "\n",
    "assert func(42) == 89\n",
    "```\n",
    "\n",
    "При реализации нужно учитывать области допустимых значений функций."
   ]
  },
  {
   "cell_type": "code",
   "execution_count": null,
   "metadata": {},
   "outputs": [],
   "source": [
    "# ваш код"
   ]
  },
  {
   "cell_type": "markdown",
   "metadata": {},
   "source": [
    "## Задание 1.5 (7 баллов)\n",
    "\n",
    "Реализуйте поддержку функций нескольких аргументов. Например\n",
    "\n",
    "```python\n",
    "def f(x: float, y: float, z: float) -> float:\n",
    "    return x * y + z - 5 * y  \n",
    "\n",
    "\n",
    "f_diff = diff(f)\n",
    "\n",
    "f_diff(10, 10, 10) # = [10, 5, 1]\n",
    "```"
   ]
  },
  {
   "cell_type": "code",
   "execution_count": null,
   "metadata": {},
   "outputs": [],
   "source": [
    "# ваш код"
   ]
  }
 ],
 "metadata": {
  "kernelspec": {
   "display_name": "Python 3.10.8 64-bit",
   "language": "python",
   "name": "python3"
  },
  "language_info": {
   "codemirror_mode": {
    "name": "ipython",
    "version": 3
   },
   "file_extension": ".py",
   "mimetype": "text/x-python",
   "name": "python",
   "nbconvert_exporter": "python",
   "pygments_lexer": "ipython3",
   "version": "3.10.8"
  },
  "orig_nbformat": 4,
  "vscode": {
   "interpreter": {
    "hash": "225e727bf6527ac372db600e53beb31b5af8a49e06940289e5b9716853b5f8c1"
   }
  }
 },
 "nbformat": 4,
 "nbformat_minor": 2
}
