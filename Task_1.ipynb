{
 "cells": [
  {
   "cell_type": "markdown",
   "metadata": {},
   "source": [
    "# Задание 1\n",
    "\n",
    "(**NB.** для запуска примеров кода нужен Python версии не ниже **3.10**, допускается использование других версий, в этом случае нужно самостоятельно избавиться от конструкции `match`).\n",
    "\n",
    "Есть следующий код для [автоматического дифференцирования](https://en.wikipedia.org/wiki/Automatic_differentiation), в котором используются особенности системы типов языка `Python`: "
   ]
  },
  {
   "cell_type": "code",
   "execution_count": 135,
   "metadata": {},
   "outputs": [],
   "source": [
    "from dataclasses import dataclass\n",
    "from typing import Union, Callable\n",
    "from numbers import Number\n",
    "#from math import sin, cos\n",
    "import math\n",
    "\n",
    "@dataclass\n",
    "class Dual:\n",
    "    value: float\n",
    "    d: float\n",
    "\n",
    "    def __add__(self, other: Union[\"Dual\", Number]) -> \"Dual\":\n",
    "         match other:\n",
    "            case Dual(o_value, o_d):\n",
    "                return Dual(self.value + o_value, self.d + o_d)\n",
    "            case Number():\n",
    "                return Dual(float(other) + self.value, self.d)\n",
    "\n",
    "    def __mul__(self, other: Union[\"Dual\", Number]) -> \"Dual\":\n",
    "         match other:\n",
    "            case Dual(o_value, o_d):\n",
    "                return Dual(self.value * o_value, self.value * o_d + self.d * o_value)\n",
    "            case Number():\n",
    "                return Dual(float(other) * self.value, float(other) * self.d)\n",
    "                \n",
    "    def __truediv__(self, other: Union[\"Dual\", Number])-> \"Dual\":\n",
    "        match other:\n",
    "            case Dual(o_value, o_d):\n",
    "                return Dual(self.value / o_value, (self.d * o_value - self.value * o_d) / o_value / o_value)\n",
    "            case Number():\n",
    "                return Dual(self.value / float(other),  self.d  / float(other))\n",
    "            \n",
    "    def __sub__(self, other: Union[\"Dual\", Number]) -> \"Dual\":\n",
    "         match other:\n",
    "            case Dual(o_value, o_d):\n",
    "                return Dual(self.value - o_value, self.d - o_d)\n",
    "            case Number():\n",
    "                return Dual(self.value, self.d)\n",
    "\n",
    "    def __neg__(self)-> \"Dual\":\n",
    "        return (Dual(0, 0) - self)\n",
    "    \n",
    "    def __pos__(self)-> \"Dual\":\n",
    "        return (Dual(0, 0) + self)\n",
    "    \n",
    "    def __pow__(self, other: Number)-> \"Dual\":\n",
    "        if isinstance(other, Number):\n",
    "            return Dual(self.value ** other, float(other) * (self.value) ** (float(other) - 1))\n",
    "        else:\n",
    "            raise TypeError(\"power for numbers only\")\n",
    "    \n",
    "\n",
    "        \n",
    "\n",
    "    __rmul__ = __mul__  # https://docs.python.org/3/reference/datamodel.html#object.__mul__\n",
    "    __radd__ = __add__  # https://docs.python.org/3/reference/datamodel.html#object.__radd__\n",
    " \n",
    "    def __rsub__(self, other: Union[\"Dual\", Number]):\n",
    "        return -self.__sub__(other)\n",
    "    \n",
    "#functions overload\n",
    "def cos(x: \"Dual\")-> \"Dual\":\n",
    "    return Dual(math.cos(x.value),-math.sin(x.value)*x.d)   \n",
    "    \n",
    "def sin(x: \"Dual\")-> \"Dual\":\n",
    "    return Dual(math.sin(x.value),math.cos(x.value)*x.d)\n",
    "\n",
    "def exp(x: \"Dual\")-> \"Dual\":\n",
    "    return Dual(math.exp(x.value),math.exp(x.value)*x.d)\n",
    "\n",
    "def log(x: \"Dual\")-> \"Dual\":\n",
    "    return Dual(math.log(x.value),x.d/x.value)\n",
    "\n",
    "def diff(func: Callable[[float], float]) -> Callable[[float], float]:\n",
    "    return lambda x: func(Dual(x, 1.0)).d\n",
    " "
   ]
  },
  {
   "cell_type": "markdown",
   "metadata": {},
   "source": [
    "Поддерживаются две операции - сложение и умножение. Применить можно так:"
   ]
  },
  {
   "cell_type": "code",
   "execution_count": 87,
   "metadata": {},
   "outputs": [
    {
     "data": {
      "text/plain": [
       "60.0"
      ]
     },
     "execution_count": 87,
     "metadata": {},
     "output_type": "execute_result"
    }
   ],
   "source": [
    "# Функция, которую будем дифференцировать\n",
    "def f(x: float) -> float:\n",
    "    return 5 * x ** 3 - 1\n",
    "\n",
    "f_diff = diff(f)\n",
    "\n",
    "# значение производной в точке x = 2\n",
    "f_diff(2)"
   ]
  },
  {
   "cell_type": "markdown",
   "metadata": {},
   "source": [
    "## Задание 1.1 (5 баллов)\n",
    "\n",
    "Какие недостатки вы видите в данной реализации? Реализуйте поддержку (полностью самостоятельно или модифицируя приведенный код):\n",
    "- [унарных операций](https://docs.python.org/3/reference/datamodel.html#object.__neg__) \n",
    "- деления\n",
    "- возведения в степень\n",
    "\n",
    "Каким образом можно проверить корректность решения?  Реализуйте достаточный, по вашему мнению, набор тестов."
   ]
  },
  {
   "cell_type": "markdown",
   "metadata": {},
   "source": [
    "Недостаток: необходимо использовать конструкцию match union / number довольно часто для каждой операции, когда можно константу const в функции заменять на Dual(const, 0) в функции diff и избежать этого"
   ]
  },
  {
   "cell_type": "code",
   "execution_count": 88,
   "metadata": {},
   "outputs": [],
   "source": [
    "# symmetry test\n",
    "def f_symm(x: float) -> float:\n",
    "    return 5 * x * x * x\n",
    "\n",
    "def f_symm2(x: float) -> float:\n",
    "    return 5 * -x * -x * x\n",
    "\n",
    "def f_pow(x: float) -> float:\n",
    "    return 5 * x ** (-2)\n",
    "\n",
    "\n",
    "f_diff = diff(f_symm)\n",
    "f_pow_diff = diff(f_pow)\n",
    "f_diff2 = diff(f_symm2)\n",
    "\n",
    "# значение производной в точке x = 2\n",
    "assert f_diff(2) == f_diff(-2) == 60 == f_diff2(2), 'Symmetry test failed'\n",
    "assert f_pow_diff(5) == -0.08, 'Power test error'"
   ]
  },
  {
   "cell_type": "code",
   "execution_count": 89,
   "metadata": {},
   "outputs": [],
   "source": [
    "# asymmetry test and constants\n",
    "@diff\n",
    "def f_symm1(x: float) -> float:\n",
    "    return 5 * x * x * x + 123412\n",
    "@diff\n",
    "def f_symm2(x: float) -> float:\n",
    "    return 5 * x * x * -x + 123412\n",
    "@diff\n",
    "def f_asymm(x: float) -> float:\n",
    "    return 5 * x * -x * x * x - 123124\n",
    "@diff\n",
    "def f_truediv(x: float) -> float:\n",
    "    return (5 * x * -x * x - 123124)/2\n",
    "\n",
    "# значение производной в точке x = 2\n",
    "\n",
    "assert f_symm1(2) == f_symm1(-2) == -f_symm2(-2) == 60, 'Symmetry test failed'\n",
    "assert f_asymm(-2) == 160 == -f_asymm(2), 'Assymetry test failed'\n",
    "assert -30 == f_truediv(2), 'Truediv test failed'"
   ]
  },
  {
   "cell_type": "markdown",
   "metadata": {},
   "source": [
    "## Задание 1.2 (7 баллов)\n",
    "Придумайте способ и реализуйте поддержку функций:\n",
    "- `exp()`\n",
    "- `cos()`\n",
    "- `sin()`\n",
    "- `log()`\n",
    "\n",
    "Добавьте соответствующие тесты"
   ]
  },
  {
   "cell_type": "code",
   "execution_count": 144,
   "metadata": {},
   "outputs": [
    {
     "name": "stdout",
     "output_type": "stream",
     "text": [
      "1.7829997521453995\n",
      "-0.3565999504290799\n"
     ]
    },
    {
     "ename": "AssertionError",
     "evalue": "Complex function test failed",
     "output_type": "error",
     "traceback": [
      "\u001b[1;31m---------------------------------------------------------------------------\u001b[0m",
      "\u001b[1;31mAssertionError\u001b[0m                            Traceback (most recent call last)",
      "Cell \u001b[1;32mIn [144], line 23\u001b[0m\n\u001b[0;32m     21\u001b[0m \u001b[39mprint\u001b[39m(complex_func(\u001b[39m12\u001b[39m))\n\u001b[0;32m     22\u001b[0m \u001b[39mprint\u001b[39m(math\u001b[39m.\u001b[39mcos(math\u001b[39m.\u001b[39mcos(\u001b[39m12\u001b[39m)) \u001b[39m*\u001b[39m math\u001b[39m.\u001b[39msin(\u001b[39m12\u001b[39m))\n\u001b[1;32m---> 23\u001b[0m \u001b[39massert\u001b[39;00m complex_func(\u001b[39m12\u001b[39m) \u001b[39m==\u001b[39m \u001b[39m-\u001b[39m\u001b[39m5\u001b[39m \u001b[39m*\u001b[39m math\u001b[39m.\u001b[39mcos(math\u001b[39m.\u001b[39mcos(\u001b[39m12\u001b[39m)) \u001b[39m*\u001b[39m math\u001b[39m.\u001b[39msin(\u001b[39m12\u001b[39m), \u001b[39m'\u001b[39m\u001b[39mComplex function test failed\u001b[39m\u001b[39m'\u001b[39m\n",
      "\u001b[1;31mAssertionError\u001b[0m: Complex function test failed"
     ]
    }
   ],
   "source": [
    "# ваш код   \n",
    "@diff\n",
    "def f_sin(x: float) -> float:\n",
    "    return 5 * sin(x)\n",
    "@diff\n",
    "def f_cos(x: float) -> float:\n",
    "    return 5 * cos(x)\n",
    "@diff\n",
    "def f_exp(x: float) -> float:\n",
    "    return 5 * exp(-x/2)\n",
    "@diff\n",
    "def f_log(x: float) -> float:\n",
    "    return 5 * log(x/2)\n",
    "@diff\n",
    "def complex_func(x: float) -> float:\n",
    "    return 5 * sin(cos(x))\n",
    "assert f_sin(2) == 5 * math.cos(2), 'Sin test failed'\n",
    "assert f_cos(2) == -5 * math.sin(2), 'Cos test failed'\n",
    "assert f_exp(2) == -5/2 * math.exp(-1), 'Exp test failed'\n",
    "assert f_log(4) == 5/4, 'Log test failed'\n",
    "print(complex_func(12))\n",
    "print(math.cos(math.cos(12)) * math.sin(12))\n",
    "assert complex_func(12) == -5 * math.cos(math.cos(12)) * math.sin(12), 'Complex function test failed'"
   ]
  },
  {
   "cell_type": "markdown",
   "metadata": {},
   "source": [
    "## Задание 1.3 (3 балла)\n",
    "\n",
    "Воспользуйтесь методами **численного** дифференцирования для \"проверки\" работы кода на нескольких примерах. Например,  библиотеке `scipy` есть функция `derivative`. Или реализуйте какой-нибудь метод численного дифференцирования самостоятельно (**+5 баллов**)"
   ]
  },
  {
   "cell_type": "code",
   "execution_count": 146,
   "metadata": {},
   "outputs": [],
   "source": [
    "from scipy.misc import derivative\n",
    "\n",
    "def f1(x: float) -> float:\n",
    "    return 5 * x * x + 2 * x + 2\n",
    "\n",
    "def f2(x: float) -> float:\n",
    "    return (5 * x * x + 2 * x + 2) / 2\n",
    "\n",
    "def f3(x: float) -> float:\n",
    "    return 5 * x / x - 2 * x - 2\n",
    "\n",
    "def complex_func(x: float) -> float:\n",
    "    return 5 * sin(cos(x))\n",
    "\n",
    "assert derivative(f1, 2.) == diff(f1)(2)\n",
    "assert derivative(f2, -2.) == diff(f2)(-2)\n",
    "assert derivative(f3, 2.) == diff(f3)(2)"
   ]
  },
  {
   "cell_type": "markdown",
   "metadata": {},
   "source": [
    "## Задание 1.4 (10 баллов)\n",
    "\n",
    "Необходимо разработать систему автоматического тестирования алгоритма дифференцирования в следующем виде:\n",
    "- реализовать механизм генерации \"случайных функций\" (например, что-то вроде такого: $f(x) = x + 5 * x - \\cos(20 * \\log(12 - 20 * x * x )) - 20 * x$ )\n",
    "- сгенерировать достаточно большое число функций и сравнить результаты символьного и численного дифференцирования в случайных точках "
   ]
  },
  {
   "cell_type": "markdown",
   "metadata": {},
   "source": [
    "Генерацию случайных функций можно осуществить, например, двумя путями. \n",
    "1. Генерировать функцию в текстовом виде, зачем использовать встроенную функцию [eval](https://docs.python.org/3/library/functions.html#eval)\n",
    "\n",
    "```python\n",
    "func = eval(\"lambda x: 2 * x + 5\")\n",
    "assert func(42) == 89 \n",
    "```\n",
    "\n",
    "2. Использовать стандартный модуль [ast](https://docs.python.org/3/library/ast.html), который позволяет во время выполнения программы манипулировать [Абстрактным Синтаксическим Деревом](https://ru.wikipedia.org/wiki/%D0%90%D0%B1%D1%81%D1%82%D1%80%D0%B0%D0%BA%D1%82%D0%BD%D0%BE%D0%B5_%D1%81%D0%B8%D0%BD%D1%82%D0%B0%D0%BA%D1%81%D0%B8%D1%87%D0%B5%D1%81%D0%BA%D0%BE%D0%B5_%D0%B4%D0%B5%D1%80%D0%B5%D0%B2%D0%BE).\n",
    "Например, выражение \n",
    "\n",
    "```python\n",
    "func = lambda x: 2 * x + 5\n",
    "```\n",
    "\n",
    "Можно запрограммировать с помощью кода:\n",
    "\n",
    "```python\n",
    "\n",
    "expr = ast.Expression(\n",
    "    body=ast.Lambda(\n",
    "        args=ast.arguments(\n",
    "            args=[\n",
    "                ast.arg(arg='x')\n",
    "            ],\n",
    "            posonlyargs=[],\n",
    "            kwonlyargs=[],\n",
    "            kw_defaults=[],\n",
    "            defaults=[]\n",
    "        ),\n",
    "        body=ast.BinOp(\n",
    "            left=ast.BinOp(\n",
    "                left=ast.Constant(value=2),\n",
    "                op=ast.Mult(),\n",
    "                right=ast.Name(id='x', ctx=ast.Load())\n",
    "            ),\n",
    "            op=ast.Add(),\n",
    "            right=ast.Constant(value=5)\n",
    "        )\n",
    "    )\n",
    ")\n",
    "\n",
    "ast.fix_missing_locations(expr)\n",
    "\n",
    "func = eval(compile(expr, filename=\"\", mode=\"eval\"))\n",
    "\n",
    "assert func(42) == 89\n",
    "```\n",
    "\n",
    "При реализации нужно учитывать области допустимых значений функций."
   ]
  },
  {
   "cell_type": "code",
   "execution_count": null,
   "metadata": {},
   "outputs": [],
   "source": [
    "# ваш код"
   ]
  },
  {
   "cell_type": "markdown",
   "metadata": {},
   "source": [
    "## Задание 1.5 (7 баллов)\n",
    "\n",
    "Реализуйте поддержку функций нескольких аргументов. Например\n",
    "\n",
    "```python\n",
    "def f(x: float, y: float, z: float) -> float:\n",
    "    return x * y + z - 5 * y  \n",
    "\n",
    "\n",
    "f_diff = diff(f)\n",
    "\n",
    "f_diff(10, 10, 10) # = [10, 5, 1]\n",
    "```"
   ]
  },
  {
   "cell_type": "code",
   "execution_count": null,
   "metadata": {},
   "outputs": [],
   "source": [
    "# ваш код"
   ]
  }
 ],
 "metadata": {
  "kernelspec": {
   "display_name": "Python 3.10.8 64-bit",
   "language": "python",
   "name": "python3"
  },
  "language_info": {
   "codemirror_mode": {
    "name": "ipython",
    "version": 3
   },
   "file_extension": ".py",
   "mimetype": "text/x-python",
   "name": "python",
   "nbconvert_exporter": "python",
   "pygments_lexer": "ipython3",
   "version": "3.10.8"
  },
  "orig_nbformat": 4,
  "vscode": {
   "interpreter": {
    "hash": "225e727bf6527ac372db600e53beb31b5af8a49e06940289e5b9716853b5f8c1"
   }
  }
 },
 "nbformat": 4,
 "nbformat_minor": 2
}
