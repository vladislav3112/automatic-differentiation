{
 "cells": [
  {
   "cell_type": "markdown",
   "metadata": {},
   "source": [
    "# Задание 1\n",
    "\n",
    "(**NB.** для запуска примеров кода нужен Python версии не ниже **3.10**, допускается использование других версий, в этом случае нужно самостоятельно избавиться от конструкции `match`).\n",
    "\n",
    "Есть следующий код для [автоматического дифференцирования](https://en.wikipedia.org/wiki/Automatic_differentiation), в котором используются особенности системы типов языка `Python`: "
   ]
  },
  {
   "cell_type": "code",
   "execution_count": 2,
   "metadata": {},
   "outputs": [],
   "source": [
    "from dataclasses import dataclass\n",
    "from typing import Union, Callable\n",
    "from numbers import Number\n",
    "#from math import sin, cos\n",
    "import math\n",
    "\n",
    "@dataclass\n",
    "class Dual:\n",
    "    value: float\n",
    "    d: float\n",
    "\n",
    "    def __add__(self, other: Union[\"Dual\", Number]) -> \"Dual\":\n",
    "         match other:\n",
    "            case Dual(o_value, o_d):\n",
    "                return Dual(self.value + o_value, self.d + o_d)\n",
    "            case Number():\n",
    "                return Dual(float(other) + self.value, self.d)\n",
    "\n",
    "    def __mul__(self, other: Union[\"Dual\", Number]) -> \"Dual\":\n",
    "         match other:\n",
    "            case Dual(o_value, o_d):\n",
    "                return Dual(self.value * o_value, self.value * o_d + self.d * o_value)\n",
    "            case Number():\n",
    "                return Dual(float(other) * self.value, float(other) * self.d)\n",
    "                \n",
    "    def __truediv__(self, other: Union[\"Dual\", Number])-> \"Dual\":\n",
    "        match other:\n",
    "            case Dual(o_value, o_d):\n",
    "                return Dual(self.value / o_value, (self.d * o_value - self.value * o_d) / o_value / o_value)\n",
    "            case Number():\n",
    "                return Dual(self.value / float(other),  self.d  / float(other))\n",
    "            \n",
    "    def __sub__(self, other: Union[\"Dual\", Number]) -> \"Dual\":\n",
    "         match other:\n",
    "            case Dual(o_value, o_d):\n",
    "                return Dual(self.value - o_value, self.d - o_d)\n",
    "            case Number():\n",
    "                return Dual(self.value, self.d)\n",
    "\n",
    "    def __neg__(self)-> \"Dual\":\n",
    "        return (Dual(0, 0) - self)\n",
    "    \n",
    "    def __pos__(self)-> \"Dual\":\n",
    "        return (Dual(0, 0) + self)\n",
    "    \n",
    "    def __pow__(self, other: Number)-> \"Dual\":\n",
    "        if isinstance(other, Number):\n",
    "            return Dual(self.value ** other, float(other) * (self.value) ** (float(other) - 1))\n",
    "        else:\n",
    "            raise TypeError(\"power for numbers only\")\n",
    "    \n",
    "\n",
    "        \n",
    "\n",
    "    __rmul__ = __mul__  # https://docs.python.org/3/reference/datamodel.html#object.__mul__\n",
    "    __radd__ = __add__  # https://docs.python.org/3/reference/datamodel.html#object.__radd__\n",
    " \n",
    "    def __rsub__(self, other: Union[\"Dual\", Number]):\n",
    "        return -self.__sub__(other)\n",
    "    \n",
    "#functions overload\n",
    "def cos(x: \"Dual\")-> \"Dual\":\n",
    "    return Dual(math.cos(x.value),-math.sin(x.value)*x.d)   \n",
    "    \n",
    "def sin(x: \"Dual\")-> \"Dual\":\n",
    "    return Dual(math.sin(x.value),math.cos(x.value)*x.d)\n",
    "\n",
    "def exp(x: \"Dual\")-> \"Dual\":\n",
    "    return Dual(math.exp(x.value),math.exp(x.value)*x.d)\n",
    "\n",
    "def log(x: \"Dual\")-> \"Dual\":\n",
    "    return Dual(math.log(x.value),x.d/x.value)\n",
    "\n",
    "def diff(func: Callable[[float], float]) -> Callable[[float], float]:\n",
    "    return lambda x: func(Dual(x, 1.0)).d\n",
    " "
   ]
  },
  {
   "cell_type": "markdown",
   "metadata": {},
   "source": [
    "Поддерживаются две операции - сложение и умножение. Применить можно так:"
   ]
  },
  {
   "cell_type": "code",
   "execution_count": 3,
   "metadata": {},
   "outputs": [
    {
     "data": {
      "text/plain": [
       "60.0"
      ]
     },
     "execution_count": 3,
     "metadata": {},
     "output_type": "execute_result"
    }
   ],
   "source": [
    "# Функция, которую будем дифференцировать\n",
    "def f(x: float) -> float:\n",
    "    return 5 * x ** 3 - 1\n",
    "\n",
    "f_diff = diff(f)\n",
    "\n",
    "# значение производной в точке x = 2\n",
    "f_diff(2)"
   ]
  },
  {
   "cell_type": "markdown",
   "metadata": {},
   "source": [
    "## Задание 1.1 (5 баллов)\n",
    "\n",
    "Какие недостатки вы видите в данной реализации? Реализуйте поддержку (полностью самостоятельно или модифицируя приведенный код):\n",
    "- [унарных операций](https://docs.python.org/3/reference/datamodel.html#object.__neg__) \n",
    "- деления\n",
    "- возведения в степень\n",
    "\n",
    "Каким образом можно проверить корректность решения?  Реализуйте достаточный, по вашему мнению, набор тестов."
   ]
  },
  {
   "cell_type": "markdown",
   "metadata": {},
   "source": [
    "Недостаток: необходимо использовать конструкцию match union / number довольно часто для каждой операции, когда можно константу const в функции заменять на Dual(const, 0) в функции diff и избежать этого"
   ]
  },
  {
   "cell_type": "code",
   "execution_count": 4,
   "metadata": {},
   "outputs": [],
   "source": [
    "# symmetry test\n",
    "def f_symm(x: float) -> float:\n",
    "    return 5 * x * x * x\n",
    "\n",
    "def f_symm2(x: float) -> float:\n",
    "    return 5 * -x * -x * x\n",
    "\n",
    "def f_pow(x: float) -> float:\n",
    "    return 5 * x ** (-2)\n",
    "\n",
    "\n",
    "f_diff = diff(f_symm)\n",
    "f_pow_diff = diff(f_pow)\n",
    "f_diff2 = diff(f_symm2)\n",
    "\n",
    "# значение производной в точке x = 2\n",
    "assert f_diff(2) == f_diff(-2) == 60 == f_diff2(2), 'Symmetry test failed'\n",
    "assert f_pow_diff(5) == -0.08, 'Power test error'"
   ]
  },
  {
   "cell_type": "code",
   "execution_count": 5,
   "metadata": {},
   "outputs": [],
   "source": [
    "# asymmetry test and constants\n",
    "@diff\n",
    "def f_symm1(x: float) -> float:\n",
    "    return 5 * x * x * x + 123412\n",
    "@diff\n",
    "def f_symm2(x: float) -> float:\n",
    "    return 5 * x * x * -x + 123412\n",
    "@diff\n",
    "def f_asymm(x: float) -> float:\n",
    "    return 5 * x * -x * x * x - 123124\n",
    "@diff\n",
    "def f_truediv(x: float) -> float:\n",
    "    return (5 * x * -x * x - 123124)/2\n",
    "\n",
    "# значение производной в точке x = 2\n",
    "\n",
    "assert f_symm1(2) == f_symm1(-2) == -f_symm2(-2) == 60, 'Symmetry test failed'\n",
    "assert f_asymm(-2) == 160 == -f_asymm(2), 'Assymetry test failed'\n",
    "assert -30 == f_truediv(2), 'Truediv test failed'"
   ]
  },
  {
   "cell_type": "markdown",
   "metadata": {},
   "source": [
    "## Задание 1.2 (7 баллов)\n",
    "Придумайте способ и реализуйте поддержку функций:\n",
    "- `exp()`\n",
    "- `cos()`\n",
    "- `sin()`\n",
    "- `log()`\n",
    "\n",
    "Добавьте соответствующие тесты"
   ]
  },
  {
   "cell_type": "code",
   "execution_count": 6,
   "metadata": {},
   "outputs": [],
   "source": [
    "# ваш код   \n",
    "@diff\n",
    "def f_sin(x: float) -> float:\n",
    "    return 5 * sin(x)\n",
    "@diff\n",
    "def f_cos(x: float) -> float:\n",
    "    return 5 * cos(x)\n",
    "@diff\n",
    "def f_exp(x: float) -> float:\n",
    "    return 5 * exp(-x/2)\n",
    "@diff\n",
    "def f_log(x: float) -> float:\n",
    "    return 5 * log(x/2)\n",
    "@diff\n",
    "def complex_func(x: float) -> float:\n",
    "    return 5 * sin(cos(x))\n",
    "assert f_sin(2) == 5 * math.cos(2), 'Sin test failed'\n",
    "assert f_cos(2) == -5 * math.sin(2), 'Cos test failed'\n",
    "assert f_exp(2) == -5/2 * math.exp(-1), 'Exp test failed'       \n",
    "assert f_log(4) == 5/4, 'Log test failed'\n",
    "assert round(complex_func(12),8) == round((-5 * math.sin(12) * math.cos(math.cos(12))),8) , 'Complex function test failed'"
   ]
  },
  {
   "cell_type": "markdown",
   "metadata": {},
   "source": [
    "## Задание 1.3 (3 балла)\n",
    "\n",
    "Воспользуйтесь методами **численного** дифференцирования для \"проверки\" работы кода на нескольких примерах. Например,  библиотеке `scipy` есть функция `derivative`. Или реализуйте какой-нибудь метод численного дифференцирования самостоятельно (**+5 баллов**)"
   ]
  },
  {
   "cell_type": "code",
   "execution_count": 10,
   "metadata": {},
   "outputs": [],
   "source": [
    "from scipy.misc import derivative\n",
    "\n",
    "def f1(x: float) -> float:\n",
    "    return 5 * x * x + 2 * x + 2\n",
    "\n",
    "def f2(x: float) -> float:\n",
    "    return (5 * x * x + 2 * x + 2) / 2\n",
    "\n",
    "def f3(x: float) -> float:\n",
    "    return 5 * x / x - 2 * x - 2\n",
    "\n",
    "def complex_func_test(x: float) -> float:\n",
    "    return 5 * math.sin(math.cos(x))\n",
    "\n",
    "assert derivative(f1, 2.) == diff(f1)(2)\n",
    "assert derivative(f2, -2.) == diff(f2)(-2)\n",
    "assert derivative(f3, 2.) == diff(f3)(2)\n",
    "assert round(derivative(complex_func_test, 12, dx=1e-6),5) == round(complex_func(12),5)"
   ]
  },
  {
   "cell_type": "markdown",
   "metadata": {},
   "source": [
    "## Задание 1.4 (10 баллов)\n",
    "\n",
    "Необходимо разработать систему автоматического тестирования алгоритма дифференцирования в следующем виде:\n",
    "- реализовать механизм генерации \"случайных функций\" (например, что-то вроде такого: $f(x) = x + 5 * x - \\cos(20 * \\log(12 - 20 * x * x )) - 20 * x$ )\n",
    "- сгенерировать достаточно большое число функций и сравнить результаты символьного и численного дифференцирования в случайных точках "
   ]
  },
  {
   "cell_type": "markdown",
   "metadata": {},
   "source": [
    "Генерацию случайных функций можно осуществить, например, двумя путями. \n",
    "1. Генерировать функцию в текстовом виде, зачем использовать встроенную функцию [eval](https://docs.python.org/3/library/functions.html#eval)\n",
    "\n",
    "```python\n",
    "func = eval(\"lambda x: 2 * x + 5\")\n",
    "assert func(42) == 89 \n",
    "```\n",
    "\n",
    "2. Использовать стандартный модуль [ast](https://docs.python.org/3/library/ast.html), который позволяет во время выполнения программы манипулировать [Абстрактным Синтаксическим Деревом](https://ru.wikipedia.org/wiki/%D0%90%D0%B1%D1%81%D1%82%D1%80%D0%B0%D0%BA%D1%82%D0%BD%D0%BE%D0%B5_%D1%81%D0%B8%D0%BD%D1%82%D0%B0%D0%BA%D1%81%D0%B8%D1%87%D0%B5%D1%81%D0%BA%D0%BE%D0%B5_%D0%B4%D0%B5%D1%80%D0%B5%D0%B2%D0%BE).\n",
    "Например, выражение \n",
    "\n",
    "```python\n",
    "func = lambda x: 2 * x + 5\n",
    "```\n",
    "\n",
    "Можно запрограммировать с помощью кода:\n",
    "\n",
    "```python\n",
    "\n",
    "expr = ast.Expression(\n",
    "    body=ast.Lambda(\n",
    "        args=ast.arguments(\n",
    "            args=[\n",
    "                ast.arg(arg='x')\n",
    "            ],\n",
    "            posonlyargs=[],\n",
    "            kwonlyargs=[],\n",
    "            kw_defaults=[],\n",
    "            defaults=[]\n",
    "        ),\n",
    "        body=ast.BinOp(\n",
    "            left=ast.BinOp(\n",
    "                left=ast.Constant(value=2),\n",
    "                op=ast.Mult(),\n",
    "                right=ast.Name(id='x', ctx=ast.Load())\n",
    "            ),\n",
    "            op=ast.Add(),\n",
    "            right=ast.Constant(value=5)\n",
    "        )\n",
    "    )\n",
    ")\n",
    "\n",
    "ast.fix_missing_locations(expr)\n",
    "\n",
    "func = eval(compile(expr, filename=\"\", mode=\"eval\"))\n",
    "\n",
    "assert func(42) == 89\n",
    "```\n",
    "\n",
    "При реализации нужно учитывать области допустимых значений функций."
   ]
  },
  {
   "cell_type": "code",
   "execution_count": 53,
   "metadata": {},
   "outputs": [
    {
     "name": "stdout",
     "output_type": "stream",
     "text": [
      "FUNC After   arg\n",
      "FUNC BEFORE  exp(x\n",
      "FUNC After  exp(x func\n",
      "FUNC After  exp(x* arg\n",
      "FUNC BEFORE  exp(x*cos(x\n",
      "FUNC After  exp(x*cos(x func\n",
      "FUNC After  exp(x*cos(x+ arg\n",
      "FUNC BEFORE  exp(x*cos(x+sin(x)\n",
      "FUNC After  exp(x*cos(x+sin(x) const\n",
      "FUNC After  exp(x*cos(x+sin(x)** operator\n",
      "exp(x*cos(x+sin(x)**-25))\n"
     ]
    },
    {
     "ename": "TypeError",
     "evalue": "'str' object is not callable",
     "output_type": "error",
     "traceback": [
      "\u001b[1;31m---------------------------------------------------------------------------\u001b[0m",
      "\u001b[1;31mTypeError\u001b[0m                                 Traceback (most recent call last)",
      "Cell \u001b[1;32mIn [53], line 97\u001b[0m\n\u001b[0;32m     93\u001b[0m test_func \u001b[39m=\u001b[39m \u001b[39meval\u001b[39m(\u001b[39m\"\u001b[39m\u001b[39mlambda x: \u001b[39m\u001b[39m\"\u001b[39m \u001b[39m+\u001b[39m func_str)\n\u001b[0;32m     95\u001b[0m test_math_func \u001b[39m=\u001b[39m func_str\u001b[39m.\u001b[39mreplace(\u001b[39m\"\u001b[39m\u001b[39mlog\u001b[39m\u001b[39m\"\u001b[39m,\u001b[39m\"\u001b[39m\u001b[39mmath.log\u001b[39m\u001b[39m\"\u001b[39m)\u001b[39m.\u001b[39mreplace(\u001b[39m\"\u001b[39m\u001b[39msin\u001b[39m\u001b[39m\"\u001b[39m,\u001b[39m\"\u001b[39m\u001b[39mmath.sin\u001b[39m\u001b[39m\"\u001b[39m)\u001b[39m.\u001b[39mreplace(\n\u001b[0;32m     96\u001b[0m                 \u001b[39m\"\u001b[39m\u001b[39mcos\u001b[39m\u001b[39m\"\u001b[39m,\u001b[39m\"\u001b[39m\u001b[39mmath.cos\u001b[39m\u001b[39m\"\u001b[39m)\u001b[39m.\u001b[39mreplace(\u001b[39m\"\u001b[39m\u001b[39mexp\u001b[39m\u001b[39m\"\u001b[39m,\u001b[39m\"\u001b[39m\u001b[39mmath.exp\u001b[39m\u001b[39m\"\u001b[39m)\n\u001b[1;32m---> 97\u001b[0m \u001b[39massert\u001b[39;00m \u001b[39mround\u001b[39m(diff(test_func)(\u001b[39m10\u001b[39m),\u001b[39m5\u001b[39m) \u001b[39m==\u001b[39m \u001b[39mround\u001b[39m(derivative(test_math_func, \u001b[39m10\u001b[39;49m,dx\u001b[39m=\u001b[39;49m\u001b[39m1e-6\u001b[39;49m),\u001b[39m5\u001b[39m),\u001b[39m\"\u001b[39m\u001b[39mRandom func test failed\u001b[39m\u001b[39m\"\u001b[39m\n",
      "File \u001b[1;32mc:\\Users\\dyush\\AppData\\Local\\Programs\\Python\\Python310\\lib\\site-packages\\scipy\\misc\\_common.py:144\u001b[0m, in \u001b[0;36mderivative\u001b[1;34m(func, x0, dx, n, args, order)\u001b[0m\n\u001b[0;32m    142\u001b[0m ho \u001b[39m=\u001b[39m order \u001b[39m>>\u001b[39m \u001b[39m1\u001b[39m\n\u001b[0;32m    143\u001b[0m \u001b[39mfor\u001b[39;00m k \u001b[39min\u001b[39;00m \u001b[39mrange\u001b[39m(order):\n\u001b[1;32m--> 144\u001b[0m     val \u001b[39m+\u001b[39m\u001b[39m=\u001b[39m weights[k]\u001b[39m*\u001b[39mfunc(x0\u001b[39m+\u001b[39;49m(k\u001b[39m-\u001b[39;49mho)\u001b[39m*\u001b[39;49mdx,\u001b[39m*\u001b[39;49margs)\n\u001b[0;32m    145\u001b[0m \u001b[39mreturn\u001b[39;00m val \u001b[39m/\u001b[39m prod((dx,)\u001b[39m*\u001b[39mn,axis\u001b[39m=\u001b[39m\u001b[39m0\u001b[39m)\n",
      "\u001b[1;31mTypeError\u001b[0m: 'str' object is not callable"
     ]
    }
   ],
   "source": [
    "# ваш код\n",
    "from random import randint\n",
    "dict_func_codes = {\n",
    "    #argument\n",
    "    0:\"x\",\n",
    "    1:0,\n",
    "    \n",
    "    #functions\n",
    "    2:\"sin(\",\n",
    "    3:\"cos(\",\n",
    "    4:\"log(\",\n",
    "    5:\"exp(\",\n",
    "    \n",
    "    #two part opertaions\n",
    "    6:\"+\",\n",
    "    7:\"/\",\n",
    "    8:\"-\",\n",
    "    9:\"*\",\n",
    "    10:\"**\"\n",
    "}\n",
    "\n",
    "def add_argument(func_str: str)-> str:\n",
    "    argtype = randint(0, 1)\n",
    "    if argtype == 0:\n",
    "            func_str += \"x\"\n",
    "    else:\n",
    "        func_str += str(randint(-255,255))\n",
    "    return func_str\n",
    "\n",
    "OPERATIONS_LEN = 10\n",
    "BRACKET_CLOSE_CHANCE = 0.4\n",
    "func_str = \"\"\n",
    "unmatching_brackets = 0\n",
    "unmatching_operations = False\n",
    "arg_type = 'start' #x, const,argtype 0, sin, cos, log - argtype 2, +,-,*,**,/,- - argtype 3\n",
    "\n",
    "#init\n",
    "code = randint(0,5)\n",
    "if(code < 2):\n",
    "    arg_type = 'arg'\n",
    "else:\n",
    "    arg_type = 'func'\n",
    "\n",
    "for i in range(OPERATIONS_LEN):\n",
    "    dict_func_codes[1] = randint(-128,256)\n",
    "    \n",
    "    if(arg_type == 'arg'):\n",
    "        if(code == 4):\n",
    "            dict_func_codes[1] = randint(0,256)\n",
    "        code = randint(0,1)\n",
    "        unmatching_operations = False\n",
    "        func_str += str(dict_func_codes[code])\n",
    "        if(unmatching_brackets):\n",
    "            close_code = randint(0,100)\n",
    "            if(close_code < 100 * BRACKET_CLOSE_CHANCE):\n",
    "                func_str += \")\"\n",
    "                unmatching_brackets -= 1\n",
    "        arg_type = 'operator'\n",
    "        continue\n",
    "    elif(arg_type == 'func'):\n",
    "        code = randint(2,5)\n",
    "        unmatching_operations = False\n",
    "        unmatching_brackets += 1\n",
    "        arg_type = 'arg'\n",
    "    elif(arg_type == 'operator'):\n",
    "        code = randint(6,10)\n",
    "        unmatching_operations = True\n",
    "        if(code == 10):\n",
    "            arg_type = 'const'\n",
    "        else:\n",
    "            arg_code = randint(0,1)\n",
    "            if(arg_code == 0):\n",
    "                arg_type = 'arg'\n",
    "            else:\n",
    "                arg_type = 'func'\n",
    "\n",
    "    elif(arg_type == 'const'):\n",
    "        code = 1\n",
    "        unmatching_operations = False\n",
    "        arg_type = 'operator'\n",
    "    func_str += str(dict_func_codes[code])\n",
    "\n",
    "if(unmatching_operations):\n",
    "    code = randint(0,1)\n",
    "    func_str += str(dict_func_codes[code])   \n",
    "if(unmatching_brackets):\n",
    "    func_str += unmatching_brackets * \")\"\n",
    "    unmatching_brackets = 0\n",
    "print(func_str)\n"
   ]
  },
  {
   "cell_type": "code",
   "execution_count": 69,
   "metadata": {},
   "outputs": [
    {
     "name": "stdout",
     "output_type": "stream",
     "text": [
      "exp(x*cos(x+sin(x)**-25))\n",
      "math.exp(x*math.cos(x+math.sin(x)**-25))\n",
      "130527.94336\n",
      "117.76112\n"
     ]
    },
    {
     "ename": "AssertionError",
     "evalue": "Random func test failed",
     "output_type": "error",
     "traceback": [
      "\u001b[1;31m---------------------------------------------------------------------------\u001b[0m",
      "\u001b[1;31mAssertionError\u001b[0m                            Traceback (most recent call last)",
      "Cell \u001b[1;32mIn [69], line 11\u001b[0m\n\u001b[0;32m      9\u001b[0m \u001b[39mprint\u001b[39m(\u001b[39mround\u001b[39m(diff(test_func)(\u001b[39m10\u001b[39m),\u001b[39m5\u001b[39m))\n\u001b[0;32m     10\u001b[0m \u001b[39mprint\u001b[39m(\u001b[39mround\u001b[39m(derivative(test_math_func, \u001b[39m10\u001b[39m,dx\u001b[39m=\u001b[39m\u001b[39m1e-6\u001b[39m),\u001b[39m5\u001b[39m))\n\u001b[1;32m---> 11\u001b[0m \u001b[39massert\u001b[39;00m \u001b[39mround\u001b[39m(diff(test_func)(\u001b[39m10\u001b[39m),\u001b[39m5\u001b[39m) \u001b[39m==\u001b[39m \u001b[39mround\u001b[39m(derivative(test_math_func, \u001b[39m10\u001b[39m),\u001b[39m5\u001b[39m),\u001b[39m\"\u001b[39m\u001b[39mRandom func test failed\u001b[39m\u001b[39m\"\u001b[39m\n",
      "\u001b[1;31mAssertionError\u001b[0m: Random func test failed"
     ]
    }
   ],
   "source": [
    "func_str = \"exp(x*cos(x+sin(x)**-25))\"\n",
    "test_func = eval(\"lambda x: \" + func_str)\n",
    "\n",
    "test_math_str = func_str.replace(\"log\",\"math.log\").replace(\"sin\",\"math.sin\").replace(\n",
    "                \"cos\",\"math.cos\").replace(\"exp\",\"math.exp\")\n",
    "test_math_func = eval(\"lambda x: \" + test_math_str)\n",
    "print(func_str)\n",
    "print(test_math_str)\n",
    "print(round(diff(test_func)(10),5))\n",
    "print(round(derivative(test_math_func, 10,dx=1e-6),5))\n",
    "assert round(diff(test_func)(10),5) == round(derivative(test_math_func, 10),5),\"Random func test failed\"\n"
   ]
  },
  {
   "cell_type": "markdown",
   "metadata": {},
   "source": [
    "## Задание 1.5 (7 баллов)\n",
    "\n",
    "Реализуйте поддержку функций нескольких аргументов. Например\n",
    "\n",
    "```python\n",
    "def f(x: float, y: float, z: float) -> float:\n",
    "    return x * y + z - 5 * y  \n",
    "\n",
    "\n",
    "f_diff = diff(f)\n",
    "\n",
    "f_diff(10, 10, 10) # = [10, 5, 1]\n",
    "```"
   ]
  },
  {
   "cell_type": "code",
   "execution_count": 9,
   "metadata": {},
   "outputs": [],
   "source": [
    "# ваш код"
   ]
  }
 ],
 "metadata": {
  "kernelspec": {
   "display_name": "Python 3.10.8 64-bit",
   "language": "python",
   "name": "python3"
  },
  "language_info": {
   "codemirror_mode": {
    "name": "ipython",
    "version": 3
   },
   "file_extension": ".py",
   "mimetype": "text/x-python",
   "name": "python",
   "nbconvert_exporter": "python",
   "pygments_lexer": "ipython3",
   "version": "3.10.8"
  },
  "orig_nbformat": 4,
  "vscode": {
   "interpreter": {
    "hash": "225e727bf6527ac372db600e53beb31b5af8a49e06940289e5b9716853b5f8c1"
   }
  }
 },
 "nbformat": 4,
 "nbformat_minor": 2
}
